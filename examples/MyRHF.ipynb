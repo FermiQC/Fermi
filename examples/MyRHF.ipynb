{
 "cells": [
  {
   "cell_type": "markdown",
   "id": "50da7701",
   "metadata": {},
   "source": [
    "# Extending Fermi"
   ]
  },
  {
   "cell_type": "markdown",
   "id": "a6342f06",
   "metadata": {},
   "source": [
    "In this guide, we will implement a simple RHF algorithm using tools from Fermi. Moreover, we will explore the composability of the code by integrating this new implementation into Fermi without ever touching its source."
   ]
  },
  {
   "cell_type": "markdown",
   "id": "1d89b031",
   "metadata": {},
   "source": [
    "## Goals\n",
    "\n",
    "1. Implement a Restricted Hartree-Fock method\n",
    "2. Integrate our implementation into Fermi\n",
    "3. Use new code within Fermi"
   ]
  },
  {
   "cell_type": "markdown",
   "id": "a22c1da6",
   "metadata": {},
   "source": [
    "# Procedure"
   ]
  },
  {
   "cell_type": "markdown",
   "id": "5e5600c8",
   "metadata": {},
   "source": [
    "## Integrals\n",
    "\n",
    "We will use Fermi to obtain the integrals over basis set $\\{\\chi_1, \\chi_2, ..., \\chi_N\\}$\n",
    "\n",
    "Overlap: $ S_{\\mu \\nu} = \\int \\chi_\\mu \\chi_\\nu d\\tau$ \n",
    "\n",
    "Kinetic: $ T_{\\mu \\nu} = -\\frac{1}{2}\\int \\chi_\\mu \\nabla^2 \\chi_\\nu d\\tau$\n",
    "\n",
    "Nuclear: $ V_{\\mu \\nu} = \\sum_A \\int \\chi_\\mu \\frac{Z_A}{|\\mathbf{r}-\\mathbf{R_A}|} \\chi_\\nu d\\tau$\n",
    "\n",
    "Repulsion: $ (\\chi_\\mu \\chi_\\nu|\\chi_\\rho \\chi_\\sigma) = \\int \\chi_\\mu(1) \\chi_\\nu(1)\\frac{1}{r_{12}}\\chi_\\rho(2)\\chi_\\sigma(2)d\\tau  \\rangle$\n",
    "\n",
    "## Working Equations\n",
    "\n",
    "One-electron term: $H_{\\mu\\nu} = T_{\\mu\\nu} + V_{\\mu\\nu}$\n",
    "\n",
    "Density Matrix: $D_{\\mu\\nu} = \\sum_{i=1}^{n_{occ}} C_{\\mu i} C_{\\nu i}$\n",
    "\n",
    "> $C$ contains expansion coefficients of the orbitals $\\phi$ with respect to the basis set:\n",
    "> $\\phi_{i} = \\sum_{\\mu} C_{\\mu i}\\chi_\\mu$. Thus, this array is essentially the wave function.\n",
    "\n",
    "$G_{\\mu\\nu\\rho\\sigma} = 2(\\chi_\\mu \\chi_\\nu | \\chi_\\rho \\chi_\\sigma) - (\\chi_\\mu \\chi_\\rho | \\chi_\\nu \\chi_\\sigma)$\n",
    "\n",
    "Fock matrix: $F_{\\mu\\nu} = H_{\\mu\\nu} + \\sum_{\\sigma \\rho}D_{\\sigma\\rho}G_{\\mu\\nu\\rho\\sigma}$\n",
    "\n",
    "HF Energy: $E = \\sum_{\\mu\\nu} (2H_{\\mu\\nu} +  \\sum_{\\sigma \\rho}D_{\\sigma\\rho}G_{\\mu\\nu\\rho\\sigma})D_{\\nu\\mu} + V_{nuc}$"
   ]
  },
  {
   "cell_type": "markdown",
   "id": "5e2547a9",
   "metadata": {},
   "source": [
    "## Initial Set up\n",
    "\n",
    "1. Generate all integrals\n",
    "2. Form the orthogonalizer $X = S^{-1/2}$\n",
    "3. Set $C = 0$ as initial guess\n",
    "\n",
    "## Iterations\n",
    "\n",
    "1. Build Fock Matrix\n",
    "2. Transform the Fock matrix as: $\\tilde{F} = XFX$\n",
    "3. Diagonalize the transformed Fock. Eigenvalues are orbitals energies and eigenvector $\\tilde{C}_{\\mu i}$ are the orbital coefficients\n",
    "4. Backtransform orbital coefficients $C = X\\tilde{C}$\n",
    "5. Evaluate energy and check for convergence \n",
    "6. If not converged, loop back to step 1 above."
   ]
  },
  {
   "cell_type": "markdown",
   "id": "24ebb000",
   "metadata": {},
   "source": [
    "# Part 1: Writting a RHF Code\n",
    "\n",
    "First, we need an integral helper from Fermi"
   ]
  },
  {
   "cell_type": "code",
   "execution_count": 1,
   "id": "89da5d9f",
   "metadata": {},
   "outputs": [
    {
     "name": "stderr",
     "output_type": "stream",
     "text": [
      "┌ Info: Precompiling Fermi [9237668d-08c8-4784-b8dd-383aa52fcf74]\n",
      "└ @ Base loading.jl:1423\n",
      "WARNING: using Molecules.Molecule in module HartreeFock conflicts with an existing identifier.\n"
     ]
    },
    {
     "data": {
      "text/plain": [
       " ⇒ Fermi IntegralHelper\n",
       " ⋅ Data Type:                 Float64\n",
       " ⋅ Basis:                     sto-3g\n",
       " ⋅ ERI:                       Chonky\n",
       " ⋅ Orbitals:                  AtomicOrbitals\n",
       " ⋅ Stored Integrals:          "
      ]
     },
     "execution_count": 1,
     "metadata": {},
     "output_type": "execute_result"
    }
   ],
   "source": [
    "# Load Fermi\n",
    "using Fermi\n",
    "\n",
    "# Load Fermi Integrals (just so we don't need to type Fermi.Integrals all the time)\n",
    "using Fermi.Integrals\n",
    "\n",
    "# We will also need linear algebra tools later on\n",
    "using LinearAlgebra\n",
    "\n",
    "@molecule {\n",
    "    O    1.209153654800    1.766411818900   -0.017161397200\n",
    "    H    2.198480007500    1.797710062700    0.012116171900\n",
    "    H    0.919788188200    2.458018557000    0.629793883200\n",
    "}\n",
    "\n",
    "@set {\n",
    "    basis sto-3g\n",
    "    charge 0\n",
    "    multiplicity 1 # Note that multiplicity must be one for RHF\n",
    "}\n",
    "\n",
    "# It is important to specify `eri_type`. The default will return a Sparse Array.\n",
    "# The RHF algorithm is faster using this sparse array, but it also gets more complicated\n",
    "# Here, we are looking for the simplest implementation\n",
    "aoints = IntegralHelper(eri_type=Chonky())"
   ]
  },
  {
   "cell_type": "markdown",
   "id": "b384cfc1",
   "metadata": {},
   "source": [
    "From here, we can write a function that takes this integral object in and returns the HF energy\n",
    "\n",
    "> 📝 If you never coded RHF youself, it may be beneficial to try it first before reading the code below"
   ]
  },
  {
   "cell_type": "code",
   "execution_count": 73,
   "id": "86dbe4de",
   "metadata": {},
   "outputs": [
    {
     "data": {
      "text/plain": [
       "MyRHF (generic function with 1 method)"
      ]
     },
     "execution_count": 73,
     "metadata": {},
     "output_type": "execute_result"
    }
   ],
   "source": [
    "function MyRHF(aoints)\n",
    "\n",
    "    # Get integrals\n",
    "    println(\"Collecting Integrals\")\n",
    "    S = aoints[\"S\"]\n",
    "    T = aoints[\"T\"]\n",
    "    V = aoints[\"V\"]\n",
    "    H = T + V\n",
    "    G = 2*aoints[\"ERI\"] - permutedims(aoints[\"ERI\"], (1,3,2,4))\n",
    "    X = S^(-1/2)\n",
    "      \n",
    "    # Get nuclear repulsion\n",
    "    Vnuc = aoints.molecule.Vnuc\n",
    "    \n",
    "    # Get the number of doubly occupied orbitals\n",
    "    ndocc = aoints.molecule.Nα\n",
    "    \n",
    "    # Get the number of basis functions\n",
    "    nbf = size(S, 1)\n",
    "    \n",
    "    # Create an array for C and set it to zero\n",
    "    C = zeros(nbf, nbf)\n",
    "    \n",
    "    # Get density matrix\n",
    "    D = C[:,1:ndocc] * (C[:,1:ndocc])'\n",
    "    \n",
    "    # Starts iterations!\n",
    "    ΔE = 1.0 # arbitrary, just to start the loop\n",
    "    Eold = 0.0\n",
    "    Enew = 0.0\n",
    "    ϵ = zeros(nbf)\n",
    "    \n",
    "    println(\"Starting Iterations!\")\n",
    "    \n",
    "    while ΔE > 1e-8 \n",
    "\n",
    "        Eold = Enew\n",
    "        \n",
    "        # Build Fock matrix\n",
    "        F = similar(H)\n",
    "        F .= H # Don't do F = H !!\n",
    "        \n",
    "        for μ = 1:nbf\n",
    "            for ν = 1:nbf\n",
    "                for ρ = 1:nbf\n",
    "                    for σ = 1:nbf\n",
    "                        F[μ,ν] += G[μ,ν,ρ,σ]*D[σ,ρ]\n",
    "                    end\n",
    "                end\n",
    "            end\n",
    "        end\n",
    "        \n",
    "        # Tarsnform F\n",
    "        tF = X'*F*X\n",
    "        \n",
    "        # Diagonalize F\n",
    "        ϵ, tC = LinearAlgebra.eigen(Symmetric(tF), sortby=x->x)\n",
    "        \n",
    "        # Backtransform C\n",
    "        C = X*tC\n",
    "        \n",
    "        # Update density matrix\n",
    "        D = C[:,1:ndocc] * (C[:,1:ndocc])'\n",
    "        \n",
    "        # Compute energy\n",
    "        Enew = Vnuc\n",
    "        for μ = 1:nbf\n",
    "            for ν = 1:nbf\n",
    "                Enew += 2*H[μ,ν]*D[μ,ν] # Watch out! This portion cannot be all the way inside the loop\n",
    "                for ρ = 1:nbf\n",
    "                    for σ = 1:nbf\n",
    "                        Enew += G[μ,ν,ρ,σ]*D[σ,ρ]*D[μ,ν]\n",
    "                    end\n",
    "                end\n",
    "            end\n",
    "        end\n",
    "              \n",
    "        # Compute ΔE\n",
    "        ΔE = abs(Enew - Eold)\n",
    "        \n",
    "        # Print some msg!\n",
    "        println(\"New energy: $Enew  - ΔE = $ΔE\")\n",
    "    end\n",
    "    \n",
    "    # Return energy and orbitals\n",
    "    return Enew, ϵ, C\n",
    "end"
   ]
  },
  {
   "cell_type": "markdown",
   "id": "c5ce8238",
   "metadata": {},
   "source": [
    "Now we can run the code!\n",
    "\n",
    "> ⚠️ There is a lot of room for improvement here. This code was meant to be as simple and readable as possible. If you are learning about these methods it can be a good exercise to optimize the code above."
   ]
  },
  {
   "cell_type": "code",
   "execution_count": 74,
   "id": "6488e5df",
   "metadata": {},
   "outputs": [
    {
     "name": "stdout",
     "output_type": "stream",
     "text": [
      "Collecting Integrals\n",
      "Starting Iterations!\n",
      "New energy: -73.24872578289293  - ΔE = 73.24872578289293\n",
      "New energy: -74.93626077860303  - ΔE = 1.6875349957100951\n",
      "New energy: -74.96369421293538  - ΔE = 0.02743343433235168\n",
      "New energy: -74.96483372693868  - ΔE = 0.0011395140032988138\n",
      "New energy: -74.96497219792273  - ΔE = 0.0001384709840550613\n",
      "New energy: -74.96499697363893  - ΔE = 2.4775716198632836e-5\n",
      "New energy: -74.965001733572  - ΔE = 4.759933062814525e-6\n",
      "New energy: -74.96500266590847  - ΔE = 9.32336476466844e-7\n",
      "New energy: -74.96500284954517  - ΔE = 1.836367005125794e-7\n",
      "New energy: -74.96500288577498  - ΔE = 3.622980671025289e-8\n",
      "New energy: -74.96500289292607  - ΔE = 7.151086833800946e-9\n"
     ]
    },
    {
     "data": {
      "text/plain": [
       "(-74.96500289292607, [-20.24593804071889, -1.2522378591086847, -0.600793616076149, -0.44902579654800745, -0.38938307081421075, 0.5733893104295433, 0.703982076890003], [0.9942071930373049 -0.2341333825561707 … 0.12766385894163132 5.598499071952242e-12; 0.025891913606589677 0.845738063406074 … -0.8288578348980302 -4.0005834130573896e-11; … ; -0.005614048428499817 0.15615844012365226 … 0.7740251002995622 0.8097737106988028; -0.005614048428377685 0.15615844011998248 … 0.7740251003544538 -0.8097737106324205])"
      ]
     },
     "execution_count": 74,
     "metadata": {},
     "output_type": "execute_result"
    }
   ],
   "source": [
    "MyRHF(aoints)"
   ]
  },
  {
   "cell_type": "markdown",
   "id": "36bfb6e0",
   "metadata": {},
   "source": [
    "# Part 2: Integrating with Fermi\n",
    "\n",
    "We now move on to make our new code part of Fermi. We use Julia's multiple dispath system to extend Fermi functions without having to touch its source code.\n",
    "\n",
    "We must, however, understand how methods are called inside Fermi. For a RHF computation, the function `Fermi.HartreeFock.RHF` is called. Different RHF implementations are called depending on a special argument used to select the algorithm. This argument is a subtype of `Fermi.HartreeFock.RHFAlgorithm`. For example:\n",
    "\n",
    "if we create \n",
    "\n",
    "`alg = Fermi.HartreeFock.RHFa()`\n",
    "\n",
    "and then run\n",
    "\n",
    "`Fermi.HartreeFock.RHF(alg)`\n",
    "\n",
    "The implementation associated with `RHFa` is going to be used.\n",
    "\n",
    "Thus, the first step is to create a `RHFAlgorithm` object for our new code."
   ]
  },
  {
   "cell_type": "code",
   "execution_count": 57,
   "id": "05be336e",
   "metadata": {},
   "outputs": [],
   "source": [
    "struct MyRHFAlg <: Fermi.HartreeFock.RHFAlgorithm end"
   ]
  },
  {
   "cell_type": "markdown",
   "id": "a26d7f7c",
   "metadata": {},
   "source": [
    "At this point, running `Fermi.HartreeFock.RHF(MyRHFAlg())` will raise an error. We need to import this function and create a new method for it."
   ]
  },
  {
   "cell_type": "code",
   "execution_count": 83,
   "id": "32eb35eb",
   "metadata": {},
   "outputs": [
    {
     "data": {
      "text/plain": [
       "RHF"
      ]
     },
     "execution_count": 83,
     "metadata": {},
     "output_type": "execute_result"
    }
   ],
   "source": [
    "# Explicitly import the function\n",
    "import Fermi.HartreeFock: RHF\n",
    "\n",
    "# Create a new method of the function\n",
    "function RHF(alg::MyRHFAlg)\n",
    "    aoints = IntegralHelper(eri_type=Chonky())\n",
    "    MyRHF(aoints)\n",
    "end"
   ]
  },
  {
   "cell_type": "markdown",
   "id": "74b41e09",
   "metadata": {},
   "source": [
    "Now, our code is recognized in Fermi! We can create the algorithm object\n",
    "\n",
    "`alg = MyRHFAlg()`\n",
    "\n",
    "and call\n",
    "\n",
    "`Fermi.HartreeFock.RHF(alg)`\n",
    "\n",
    "or use the macro syntax\n",
    "\n",
    "`@energy alg => rhf`"
   ]
  },
  {
   "cell_type": "code",
   "execution_count": 84,
   "id": "6da01831",
   "metadata": {},
   "outputs": [
    {
     "name": "stdout",
     "output_type": "stream",
     "text": [
      "Collecting Integrals\n",
      "Starting Iterations!\n",
      "New energy: -5.219362055405596  - ΔE = 5.219362055405596\n",
      "New energy: -5.549560170418672  - ΔE = 0.3301981150130757\n",
      "New energy: -5.551082299776921  - ΔE = 0.0015221293582490247\n",
      "New energy: -5.551087932737347  - ΔE = 5.632960426105171e-6\n",
      "New energy: -5.551087974147649  - ΔE = 4.141030185422778e-8\n",
      "New energy: -5.551087974974068  - ΔE = 8.26418933286277e-10\n"
     ]
    },
    {
     "data": {
      "text/plain": [
       "(-5.551087974974068, [-1.143826444231865, -0.6914691907823343, 1.4207091962305176, 1.4903972308868463], [-0.4076825876353103 -0.4581967915973321 0.7963788744123831 0.8454407693047463; -0.2748222783812665 -0.5432821451618882 -1.2631789382863847 -0.7221912389356774; -0.4076825876353115 0.4581967915973311 -0.7963788744123738 0.8454407693047553; -0.2748222783812684 0.5432821451618886 1.263178938286377 -0.7221912389356915])"
      ]
     },
     "execution_count": 84,
     "metadata": {},
     "output_type": "execute_result"
    }
   ],
   "source": [
    "alg = MyRHFAlg()\n",
    "@energy alg => rhf"
   ]
  },
  {
   "cell_type": "markdown",
   "id": "96c1d6dc",
   "metadata": {},
   "source": [
    "It would be nice to get ride of the first line `alg = MyRHFAlg()`. In the options, we can set the desired algorithm for rhf using `@set rhf_alg N`. Where `N` is an integer associated with an implementation. The function `Fermi.HartreeFock.get_rhf_alg` takes this number `N` and returns the `RHFAlgorithm` object. This is done using *dispatch by value*, where a new method of a function is defined for each different argument value. \n",
    "\n",
    "Currently `N=1` corresponds to the standard algorithm used in Fermi. Hence, let us teach Fermi that `N=2` will correspond to our new implementation."
   ]
  },
  {
   "cell_type": "code",
   "execution_count": 66,
   "id": "9ca823e7",
   "metadata": {},
   "outputs": [
    {
     "data": {
      "text/plain": [
       "get_rhf_alg (generic function with 4 methods)"
      ]
     },
     "execution_count": 66,
     "metadata": {},
     "output_type": "execute_result"
    }
   ],
   "source": [
    "# Again, import the function explicitly\n",
    "import Fermi.HartreeFock: get_rhf_alg\n",
    "\n",
    "function get_rhf_alg(x::Val{2})\n",
    "    MyRHFAlg()\n",
    "end"
   ]
  },
  {
   "cell_type": "markdown",
   "id": "5d394cf1",
   "metadata": {},
   "source": [
    "Check how these functions can now select the two algorithms."
   ]
  },
  {
   "cell_type": "code",
   "execution_count": 67,
   "id": "071f08d7",
   "metadata": {},
   "outputs": [
    {
     "data": {
      "text/plain": [
       "Fermi.HartreeFock.RHFa()"
      ]
     },
     "execution_count": 67,
     "metadata": {},
     "output_type": "execute_result"
    }
   ],
   "source": [
    "get_rhf_alg(1)"
   ]
  },
  {
   "cell_type": "code",
   "execution_count": 68,
   "id": "3d7c0cc3",
   "metadata": {},
   "outputs": [
    {
     "data": {
      "text/plain": [
       "MyRHFAlg()"
      ]
     },
     "execution_count": 68,
     "metadata": {},
     "output_type": "execute_result"
    }
   ],
   "source": [
    "get_rhf_alg(2)"
   ]
  },
  {
   "cell_type": "markdown",
   "id": "fe60fb2d",
   "metadata": {},
   "source": [
    "We can now set `rhf_alg` to 2 and run our code."
   ]
  },
  {
   "cell_type": "code",
   "execution_count": 85,
   "id": "887819ed",
   "metadata": {},
   "outputs": [
    {
     "name": "stdout",
     "output_type": "stream",
     "text": [
      "Collecting Integrals\n",
      "Starting Iterations!\n",
      "New energy: -5.219362055405596  - ΔE = 5.219362055405596\n",
      "New energy: -5.549560170418672  - ΔE = 0.3301981150130757\n",
      "New energy: -5.551082299776921  - ΔE = 0.0015221293582490247\n",
      "New energy: -5.551087932737347  - ΔE = 5.632960426105171e-6\n",
      "New energy: -5.551087974147649  - ΔE = 4.141030185422778e-8\n",
      "New energy: -5.551087974974068  - ΔE = 8.26418933286277e-10\n"
     ]
    },
    {
     "data": {
      "text/plain": [
       "(-5.551087974974068, [-1.143826444231865, -0.6914691907823343, 1.4207091962305176, 1.4903972308868463], [-0.4076825876353103 -0.4581967915973321 0.7963788744123831 0.8454407693047463; -0.2748222783812665 -0.5432821451618882 -1.2631789382863847 -0.7221912389356774; -0.4076825876353115 0.4581967915973311 -0.7963788744123738 0.8454407693047553; -0.2748222783812684 0.5432821451618886 1.263178938286377 -0.7221912389356915])"
      ]
     },
     "execution_count": 85,
     "metadata": {},
     "output_type": "execute_result"
    }
   ],
   "source": [
    "@molecule {\n",
    "    He 0.0 0.0 0.0\n",
    "    He 1.0 0.0 0.0 \n",
    "}\n",
    "\n",
    "@set {\n",
    "    basis 6-31g\n",
    "    rhf_alg 2\n",
    "}\n",
    "\n",
    "@energy rhf"
   ]
  },
  {
   "cell_type": "markdown",
   "id": "98408399",
   "metadata": {},
   "source": [
    "# *Fully* Integrating our code\n",
    "\n",
    "Up to this point we have been careless with the return of our function. In Fermi, our methods are expected to return wave function objects. `RHF` functions should return `RHF` objects. In order to create this object, we just need to call the constructor with all appropriate arguments."
   ]
  },
  {
   "cell_type": "code",
   "execution_count": 86,
   "id": "50e92794",
   "metadata": {},
   "outputs": [
    {
     "data": {
      "text/plain": [
       "RHF"
      ]
     },
     "execution_count": 86,
     "metadata": {},
     "output_type": "execute_result"
    }
   ],
   "source": [
    "function RHF(alg::MyRHFAlg)\n",
    "    aoints = IntegralHelper(eri_type=Chonky())\n",
    "    \n",
    "    # 1st argument: molecule object\n",
    "    molecule = aoints.molecule\n",
    "    # 2nd argument: energy\n",
    "    energy, eps, C = MyRHF(aoints)\n",
    "    # 3rd argument: Number of doubly occ orbitals\n",
    "    ndocc = molecule.Nα\n",
    "    # 4th argument: Number of virtual orbitals\n",
    "    nvir = size(C,1) - ndocc\n",
    "    # 5th argument: RHFOrbitals object\n",
    "    orbitals = Fermi.Orbitals.RHFOrbitals(molecule, aoints.basis, eps, energy, C)\n",
    "    # 6th and 7th, convergency parameters. We will skip those for now.\n",
    "    \n",
    "    return Fermi.HartreeFock.RHF(molecule, energy, ndocc, nvir, orbitals, 0.0, 0.0)\n",
    "end"
   ]
  },
  {
   "cell_type": "code",
   "execution_count": 87,
   "id": "d3a80dff",
   "metadata": {},
   "outputs": [
    {
     "name": "stdout",
     "output_type": "stream",
     "text": [
      "Collecting Integrals\n",
      "Starting Iterations!\n",
      "New energy: -5.219362055405596  - ΔE = 5.219362055405596\n",
      "New energy: -5.549560170418672  - ΔE = 0.3301981150130757\n",
      "New energy: -5.551082299776921  - ΔE = 0.0015221293582490247\n",
      "New energy: -5.551087932737347  - ΔE = 5.632960426105171e-6\n",
      "New energy: -5.551087974147649  - ΔE = 4.141030185422778e-8\n",
      "New energy: -5.551087974974068  - ΔE = 8.26418933286277e-10\n"
     ]
    },
    {
     "data": {
      "text/plain": [
       " ⇒ Fermi Restricted Hartree--Fock Wave function\n",
       " ⋅ Basis:                  6-31g\n",
       " ⋅ Energy:                 -5.551087974974068\n",
       " ⋅ Occ. Spatial Orbitals:  2\n",
       " ⋅ Vir. Spatial Orbitals:  2\n",
       "Convergence: ΔE => 0.00e+00 Dᵣₘₛ => 0.00e+00"
      ]
     },
     "execution_count": 87,
     "metadata": {},
     "output_type": "execute_result"
    }
   ],
   "source": [
    "@energy rhf"
   ]
  },
  {
   "cell_type": "markdown",
   "id": "c7bf531c",
   "metadata": {},
   "source": [
    "Now that our output data is organized, we can use this new RHF implementation for correlated computations!"
   ]
  },
  {
   "cell_type": "code",
   "execution_count": 88,
   "id": "48f6520e",
   "metadata": {},
   "outputs": [
    {
     "name": "stdout",
     "output_type": "stream",
     "text": [
      "Collecting Integrals\n",
      "Starting Iterations!\n",
      "New energy: -5.219362055405596  - ΔE = 5.219362055405596\n",
      "New energy: -5.549560170418672  - ΔE = 0.3301981150130757\n",
      "New energy: -5.551082299776921  - ΔE = 0.0015221293582490247\n",
      "New energy: -5.551087932737347  - ΔE = 5.632960426105171e-6\n",
      "New energy: -5.551087974147649  - ΔE = 4.141030185422778e-8\n",
      "New energy: -5.551087974974068  - ΔE = 8.26418933286277e-10\n",
      "================================================================================\n",
      "|                      Møller-Plesset Perturbation Theory                      |\n",
      "|                                  Module  by                                  |\n",
      "|                         G.J.R Aroeira and M.M. Davis                         |\n",
      "================================================================================\n",
      "  Starting MP2 computation\n",
      " Number of frozen orbitals:             0\n",
      " Number of inactive orbitals:           0\n",
      " Number of correlated electron pairs:   2\n",
      " Number of correlated virtual orbitals: 2\n",
      " ⇒ Total number of MP2 amplitudes:      16\n",
      "--------------------------------------------------------------------------------\n",
      " Computing MP2 Energy... Done in 0.00002 s\n",
      "\n",
      "   @Final RMP2 Correlation Energy      -0.022365304453 Eₕ\n",
      "   Reference Energy                    -5.551087974974 Eₕ\n",
      "   @Final RMP2 Total Energy            -5.573453279427 Eₕ\n",
      "--------------------------------------------------------------------------------\n"
     ]
    },
    {
     "data": {
      "text/plain": [
       " ⇒ Fermi Restricted MP2 Wave function\n",
       " ⋅ Correlation Energy:     -0.022365304453117275\n",
       " ⋅ Total Energy:           -5.573453279427185"
      ]
     },
     "execution_count": 88,
     "metadata": {},
     "output_type": "execute_result"
    }
   ],
   "source": [
    "wfn = @energy rhf\n",
    "@energy wfn => mp2"
   ]
  }
 ],
 "metadata": {
  "kernelspec": {
   "display_name": "Julia 1.7.2",
   "language": "julia",
   "name": "julia-1.7"
  },
  "language_info": {
   "file_extension": ".jl",
   "mimetype": "application/julia",
   "name": "julia",
   "version": "1.7.2"
  }
 },
 "nbformat": 4,
 "nbformat_minor": 5
}
