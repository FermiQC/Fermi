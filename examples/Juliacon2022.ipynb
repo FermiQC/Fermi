{
 "cells": [
  {
   "cell_type": "markdown",
   "id": "522eb834",
   "metadata": {},
   "source": [
    "### JuliaCon 2022\n",
    "\n",
    "#### Gustavo Aroeira, Ph.D.\n",
    "\n",
    "🏫 Emory University / University of Georgia\n",
    "\n",
    "📍 Georgia, United States of America\n",
    "\n",
    "📧 gustavo.aroeira@emory.edu\n",
    "\n",
    "## Fermi Ecosystem \n",
    "\n",
    "<p align=\"center\">\n",
    "  <img src=\"https://github.com/FermiQC/Molecules.jl/blob/main/images/logo.png?raw=true\" width=\"330\" alt=\"\"/>\n",
    "</p>\n",
    "\n",
    "[Molecules.jl](https://github.com/FermiQC/Molecules.jl): A package that deals with `Atom` objects. It can parse XYZ files and compute properties related to the position of nuclei."
   ]
  },
  {
   "cell_type": "code",
   "execution_count": 35,
   "id": "8b671dfe",
   "metadata": {},
   "outputs": [
    {
     "data": {
      "text/plain": [
       "3-element Vector{Atom}:\n",
       " Atom{Float64, Float64}(8, 15.999, [1.2091536548, 1.7664118189, -0.0171613972])\n",
       " Atom{Float64, Float64}(1, 1.008, [2.1984800075, 1.7977100627, 0.0121161719])\n",
       " Atom{Float64, Float64}(1, 1.008, [0.9197881882, 2.458018557, 0.629793883])"
      ]
     },
     "execution_count": 35,
     "metadata": {},
     "output_type": "execute_result"
    }
   ],
   "source": [
    "using Molecules\n",
    "\n",
    "water = Molecules.parse_string(\"\"\"\n",
    "         O        1.2091536548      1.7664118189     -0.0171613972\n",
    "         H        2.1984800075      1.7977100627      0.0121161719\n",
    "         H        0.9197881882      2.4580185570      0.6297938830\n",
    "\"\"\")"
   ]
  },
  {
   "cell_type": "code",
   "execution_count": 36,
   "id": "b2ea0041",
   "metadata": {},
   "outputs": [
    {
     "data": {
      "text/plain": [
       "Molecule:\n",
       "\n",
       "O    1.209153654800    1.766411818900   -0.017161397200\n",
       "H    2.198480007500    1.797710062700    0.012116171900\n",
       "H    0.919788188200    2.458018557000    0.629793883000\n",
       "\n",
       "\n",
       "Charge: 0   Multiplicity: 1   \n",
       "Nuclear repulsion:    8.8880641743"
      ]
     },
     "execution_count": 36,
     "metadata": {},
     "output_type": "execute_result"
    }
   ],
   "source": [
    "mol = Molecules.Molecule(water)"
   ]
  },
  {
   "cell_type": "code",
   "execution_count": 37,
   "id": "abb5e95e",
   "metadata": {},
   "outputs": [
    {
     "data": {
      "text/plain": [
       "8.888064174296703"
      ]
     },
     "execution_count": 37,
     "metadata": {},
     "output_type": "execute_result"
    }
   ],
   "source": [
    "Molecules.nuclear_repulsion(water)"
   ]
  },
  {
   "cell_type": "code",
   "execution_count": 38,
   "id": "71ed474b",
   "metadata": {},
   "outputs": [
    {
     "data": {
      "text/plain": [
       "3-element SVector{3, Float64} with indices SOneTo(3):\n",
       " 1.2483188267782848\n",
       " 1.8068607904101412\n",
       " 0.020676111103880096"
      ]
     },
     "execution_count": 38,
     "metadata": {},
     "output_type": "execute_result"
    }
   ],
   "source": [
    "Molecules.center_of_mass(water)"
   ]
  },
  {
   "cell_type": "code",
   "execution_count": 39,
   "id": "19918b4a",
   "metadata": {},
   "outputs": [
    {
     "data": {
      "text/plain": [
       "\"C2v\""
      ]
     },
     "execution_count": 39,
     "metadata": {},
     "output_type": "execute_result"
    }
   ],
   "source": [
    "Molecules.Symmetry.find_point_group(water)"
   ]
  },
  {
   "cell_type": "markdown",
   "id": "67468675",
   "metadata": {},
   "source": [
    "<p align=\"center\">\n",
    "  <img src=\"https://github.com/FermiQC/GaussianBasis.jl/blob/main/assets/gblogo.png?raw=true\" width=\"500\" alt=\"\"/>\n",
    "</p>\n",
    "\n",
    "[GaussianBasis.jl](https://github.com/FermiQC/GaussianBasis.jl): A library for integrals and basis set objects. It can parse `.gbs` basis set files and create `BasisFunction` and `BasisSet` structures. Integrals over Gaussian basis are computed using `libcint` (C library) or `acsint` (Julia library)."
   ]
  },
  {
   "cell_type": "code",
   "execution_count": 40,
   "id": "c9561e1f",
   "metadata": {},
   "outputs": [
    {
     "data": {
      "text/plain": [
       "sto-3g Basis Set\n",
       "Type: Spherical   Backend: Libcint\n",
       "\n",
       "Number of shells: 2\n",
       "Number of basis:  2\n",
       "\n",
       "H: 1s \n",
       "H: 1s"
      ]
     },
     "execution_count": 40,
     "metadata": {},
     "output_type": "execute_result"
    }
   ],
   "source": [
    "using GaussianBasis\n",
    "\n",
    "bset = BasisSet(\"sto-3g\", \"\"\"\n",
    "              H        0.00      0.00     0.00                 \n",
    "              H        0.76      0.00     0.00\"\"\")"
   ]
  },
  {
   "cell_type": "code",
   "execution_count": 41,
   "id": "9aafc94b",
   "metadata": {},
   "outputs": [
    {
     "data": {
      "text/plain": [
       "2×2 Matrix{Float64}:\n",
       " 1.0       0.646804\n",
       " 0.646804  1.0"
      ]
     },
     "execution_count": 41,
     "metadata": {},
     "output_type": "execute_result"
    }
   ],
   "source": [
    "overlap(bset)"
   ]
  },
  {
   "cell_type": "code",
   "execution_count": 42,
   "id": "1d32c99f",
   "metadata": {},
   "outputs": [
    {
     "data": {
      "text/plain": [
       "2×2×2×2 Array{Float64, 4}:\n",
       "[:, :, 1, 1] =\n",
       " 0.774606  0.433248\n",
       " 0.433248  0.562496\n",
       "\n",
       "[:, :, 2, 1] =\n",
       " 0.433248  0.284519\n",
       " 0.284519  0.433248\n",
       "\n",
       "[:, :, 1, 2] =\n",
       " 0.433248  0.284519\n",
       " 0.284519  0.433248\n",
       "\n",
       "[:, :, 2, 2] =\n",
       " 0.562496  0.433248\n",
       " 0.433248  0.774606"
      ]
     },
     "execution_count": 42,
     "metadata": {},
     "output_type": "execute_result"
    }
   ],
   "source": [
    "ERI_2e4c(bset) #(ij|kl)"
   ]
  },
  {
   "cell_type": "code",
   "execution_count": 43,
   "id": "2f0e3e4f",
   "metadata": {},
   "outputs": [
    {
     "data": {
      "text/plain": [
       "1×1×1×1 Array{Float64, 4}:\n",
       "[:, :, 1, 1] =\n",
       " 0.562496340063766"
      ]
     },
     "execution_count": 43,
     "metadata": {},
     "output_type": "execute_result"
    }
   ],
   "source": [
    "ERI_2e4c(bset, 1,1,2,2) # [1s(H1) 1s(H1) | 1s(H2) 1s(H2)]"
   ]
  },
  {
   "cell_type": "code",
   "execution_count": 44,
   "id": "f67cddb9",
   "metadata": {},
   "outputs": [
    {
     "data": {
      "text/plain": [
       "P shell with 3 basis built from 2 primitive gaussians\n",
       "\n",
       "χ₁₋₁ =    0.7071067812⋅Y₁₋₁⋅r¹⋅exp(-5.0⋅r²)\n",
       "     +    0.7071067812⋅Y₁₋₁⋅r¹⋅exp(-1.2⋅r²)\n",
       "\n",
       "χ₁₀  =    0.7071067812⋅Y₁₀⋅r¹⋅exp(-5.0⋅r²)\n",
       "     +    0.7071067812⋅Y₁₀⋅r¹⋅exp(-1.2⋅r²)\n",
       "\n",
       "χ₁₁  =    0.7071067812⋅Y₁₁⋅r¹⋅exp(-5.0⋅r²)\n",
       "     +    0.7071067812⋅Y₁₁⋅r¹⋅exp(-1.2⋅r²)"
      ]
     },
     "execution_count": 44,
     "metadata": {},
     "output_type": "execute_result"
    }
   ],
   "source": [
    "using StaticArrays\n",
    "\n",
    "atom = GaussianBasis.Atom(8, 16.0, [1.0, 0.0, 0.0])  # Oxygen Atom\n",
    "bf = BasisFunction(1, SVector(1/√2, 1/√2), SVector(5.0, 1.2), atom)"
   ]
  },
  {
   "cell_type": "code",
   "execution_count": 45,
   "id": "13c4c6fc",
   "metadata": {
    "scrolled": true
   },
   "outputs": [
    {
     "name": "stdout",
     "output_type": "stream",
     "text": [
      "1\n",
      "[5.0, 1.2]\n",
      "[0.7071067811865475, 0.7071067811865475]\n"
     ]
    }
   ],
   "source": [
    "bf.l    |> println\n",
    "bf.exp  |> println\n",
    "bf.coef |> println"
   ]
  },
  {
   "cell_type": "code",
   "execution_count": 46,
   "id": "fa5a9e7d",
   "metadata": {},
   "outputs": [
    {
     "data": {
      "text/plain": [
       "UnequalHydrogens Basis Set\n",
       "Type: Spherical{Atom{Float64, Float64}, 1, Float64}   Backend: Libcint\n",
       "\n",
       "Number of shells: 3\n",
       "Number of basis:  5\n",
       "\n",
       "H: 1s \n",
       "H: 1s 1p"
      ]
     },
     "execution_count": 46,
     "metadata": {},
     "output_type": "execute_result"
    }
   ],
   "source": [
    "h2 = GaussianBasis.parse_string(\n",
    "  \"H 0.0 0.0 0.0\n",
    "   H 0.0 0.0 0.7\"\n",
    ")\n",
    "\n",
    "shells = [\n",
    "BasisFunction(0, SVector(0.5215367271), SVector(0.122), h2[1]),\n",
    "BasisFunction(0, SVector(0.5215367271), SVector(0.122), h2[2]),\n",
    "BasisFunction(1, SVector(1.9584045349), SVector(0.727), h2[2])];\n",
    "\n",
    "bset = BasisSet(\"UnequalHydrogens\", h2, shells)"
   ]
  },
  {
   "cell_type": "markdown",
   "id": "693659d0",
   "metadata": {},
   "source": [
    "<p align=\"center\">\n",
    "<img src=\"../docs/src/assets/logo.svg\" width=\"350\">\n",
    "  A quantum chemistry framework in Julia\n",
    "    \n",
    "  https://doi.org/10.1021/acs.jctc.1c00719\n",
    "</p>\n",
    "\n",
    "#### Goals\n",
    "\n",
    "1. Serve as plataform for pilot projects.\n",
    "2. Offer basic implementations of quantum chemistry methods.\n",
    "3. Be modular and extensible.\n",
    "\n",
    "### Performance\n",
    "\n",
    "<img src=\"../benchmark/JCTC/ccsd_t/ccsd_t.png\" width=\"400\">"
   ]
  },
  {
   "cell_type": "code",
   "execution_count": 47,
   "id": "44c5d01b",
   "metadata": {},
   "outputs": [
    {
     "name": "stdout",
     "output_type": "stream",
     "text": [
      "================================================================================\n",
      "|                                 Hartree-Fock                                 |\n",
      "|                                  Module  by                                  |\n",
      "|                         G.J.R Aroeira and M.M. Davis                         |\n",
      "================================================================================\n",
      "Collecting necessary integrals...\n",
      "Done in    0.00051 s\n",
      "Using GWH Guess\n",
      "Molecule:\n",
      "\n",
      "O    1.209153654800    1.766411818900   -0.017161397200\n",
      "H    2.198480007500    1.797710062700    0.012116171900\n",
      "H    0.919788188200    2.458018557000    0.629793883000\n",
      "\n",
      "\n",
      "Charge: 0   Multiplicity: 1   \n",
      "\n",
      "Nuclear repulsion:    8.8880641743\n",
      " Number of AOs:                            7\n",
      " Number of Doubly Occupied Orbitals:       5\n",
      " Number of Virtual Spatial Orbitals:       2\n",
      " Guess Energy   -83.52857162010734\n",
      "\n",
      " Iter.            E[RHF]         ΔE       Dᵣₘₛ        t     DIIS     damp\n",
      "--------------------------------------------------------------------------------\n",
      "    1    -74.9454656296  -7.495e+01   1.011e-01     0.00    false     2.18\n",
      "    2    -74.8779931591   6.747e-02   4.129e-02     0.00    false     1.47\n",
      "    3    -74.7758359212   1.022e-01   3.788e-02     0.00    false     0.00\n",
      "    4    -74.9409547085  -1.651e-01   7.125e-02     0.00     true     0.00\n",
      "    5    -74.9649972656  -2.404e-02   4.621e-02     0.00     true     0.00\n",
      "    6    -74.9650022441  -4.979e-06   7.385e-04     0.00     true     0.00\n",
      "    7    -74.9650028906  -6.464e-07   2.615e-04     0.00     true     0.00\n",
      "    8    -74.9650028947  -4.112e-09   1.362e-05     0.00     true     0.00\n",
      "    9    -74.9650028947  -4.405e-13   1.273e-07     0.00     true     0.00\n",
      "    10   -74.9650028947  -2.842e-14   4.229e-08     0.00     true     0.00\n",
      "    11   -74.9650028947  -4.263e-14   1.605e-08     0.00     true     0.00\n",
      "    12   -74.9650028947   7.105e-14   1.155e-09     0.00     true     0.00\n",
      "    13   -74.9650028947  -4.263e-14   2.004e-10     0.00     true     0.00\n",
      "--------------------------------------------------------------------------------\n",
      "    RHF done in  0.01s\n",
      "    @Final RHF Energy         -74.965002894685 Eₕ\n",
      "\n",
      "   • Orbitals Summary\n",
      "\n",
      "    Orbital            Energy    Occupancy\n",
      "          1    -20.2459299841       ↿⇂\n",
      "          2     -1.2522309022       ↿⇂\n",
      "          3     -0.6007847377       ↿⇂\n",
      "          4     -0.4490335937       ↿⇂\n",
      "          5     -0.3893764439       ↿⇂\n",
      "          6      0.5733840181         \n",
      "          7      0.7039953044         \n",
      "\n",
      "   ✔  SCF Equations converged 😄\n",
      "--------------------------------------------------------------------------------\n"
     ]
    }
   ],
   "source": [
    "using Fermi\n",
    "\n",
    "@molecule {\n",
    "  O        1.2091536548      1.7664118189     -0.0171613972\n",
    "  H        2.1984800075      1.7977100627      0.0121161719\n",
    "  H        0.9197881882      2.4580185570      0.6297938830\n",
    "}\n",
    "\n",
    "@set {\n",
    "    basis sto-3g\n",
    "    df false\n",
    "    diis true\n",
    "}\n",
    "\n",
    "@energy rhf;"
   ]
  },
  {
   "cell_type": "code",
   "execution_count": 48,
   "id": "4eff45d2",
   "metadata": {},
   "outputs": [
    {
     "name": "stdout",
     "output_type": "stream",
     "text": [
      "================================================================================\n",
      "|                                 Hartree-Fock                                 |\n",
      "|                                  Module  by                                  |\n",
      "|                         G.J.R Aroeira and M.M. Davis                         |\n",
      "================================================================================\n",
      "Collecting necessary integrals...\n",
      "Done in    0.00150 s\n",
      "Using GWH Guess\n",
      "Molecule:\n",
      "\n",
      "O    1.209153654800    1.766411818900   -0.017161397200\n",
      "H    2.198480007500    1.797710062700    0.012116171900\n",
      "H    0.919788188200    2.458018557000    0.629793883000\n",
      "\n",
      "\n",
      "Charge: 0   Multiplicity: 1   \n",
      "\n",
      "Nuclear repulsion:    8.8880641743\n",
      " Number of AOs:                            7\n",
      " Number of Doubly Occupied Orbitals:       5\n",
      " Number of Virtual Spatial Orbitals:       2\n",
      " Guess Energy   -83.52857162010734\n",
      "\n",
      " Iter.            E[RHF]         ΔE       Dᵣₘₛ        t     DIIS     damp\n",
      "--------------------------------------------------------------------------------\n",
      "    1    -74.9454656296  -7.495e+01   1.011e-01     0.00    false     2.18\n",
      "    2    -74.8779931591   6.747e-02   4.129e-02     0.00    false     1.47\n",
      "    3    -74.7758359212   1.022e-01   3.788e-02     0.00    false     0.00\n",
      "    4    -74.9409547085  -1.651e-01   7.125e-02     0.00     true     0.00\n",
      "    5    -74.9649972656  -2.404e-02   4.621e-02     0.00     true     0.00\n",
      "    6    -74.9650022441  -4.979e-06   7.385e-04     0.00     true     0.00\n",
      "    7    -74.9650028906  -6.464e-07   2.615e-04     0.00     true     0.00\n",
      "    8    -74.9650028947  -4.112e-09   1.362e-05     0.00     true     0.00\n",
      "    9    -74.9650028947  -4.405e-13   1.273e-07     0.00     true     0.00\n",
      "    10   -74.9650028947  -2.842e-14   4.229e-08     0.00     true     0.00\n",
      "    11   -74.9650028947  -4.263e-14   1.605e-08     0.00     true     0.00\n",
      "    12   -74.9650028947   7.105e-14   1.155e-09     0.00     true     0.00\n",
      "    13   -74.9650028947  -4.263e-14   2.004e-10     0.00     true     0.00\n",
      "--------------------------------------------------------------------------------\n",
      "    RHF done in  0.00s\n",
      "    @Final RHF Energy         -74.965002894685 Eₕ\n",
      "\n",
      "   • Orbitals Summary\n",
      "\n",
      "    Orbital            Energy    Occupancy\n",
      "          1    -20.2459299841       ↿⇂\n",
      "          2     -1.2522309022       ↿⇂\n",
      "          3     -0.6007847377       ↿⇂\n",
      "          4     -0.4490335937       ↿⇂\n",
      "          5     -0.3893764439       ↿⇂\n",
      "          6      0.5733840181         \n",
      "          7      0.7039953044         \n",
      "\n",
      "   ✔  SCF Equations converged 😄\n",
      "--------------------------------------------------------------------------------\n",
      "Using MP2 guess\n",
      "================================================================================\n",
      "//    _____                   _          _   _____ _           _              \\\\ \n",
      "//   /  __ \\                 | |        | | /  __ \\ |         | |             \\\\   \n",
      "//   | /  \\/ ___  _   _ _ __ | | ___  __| | | /  \\/ |_   _ ___| |_ ___ _ __   \\\\   \n",
      "//   | |    / _ \\| | | | '_ \\| |/ _ \\/ _` | | |   | | | | / __| __/ _ \\ '__|  \\\\   \n",
      "//   | \\__/\\ (_) | |_| | |_) | |  __/ (_| | | \\__/\\ | |_| \\__ \\ ||  __/ |     \\\\  \n",
      "//    \\____/\\___/ \\__,_| .__/|_|\\___|\\__,_|  \\____/_|\\__,_|___/\\__\\___|_|     \\\\  \n",
      "//                    | |                                                     \\\\   \n",
      "//                    |_|                                                     \\\\   \n",
      "//                                                                            \\\\     \n",
      "//                 Module by G.J.R. Aroeira and M. M. Davis                   \\\\       \n",
      "================================================================================\n",
      "\n",
      "\tDropped Occupied Orbitals →   0.\n",
      "\tDropped Virtual Orbitals  →   0.\n",
      "\n",
      "--------------------------------------------------------------------------------\n",
      "\tOptions:\n",
      "\tPrecision           Float64\n",
      "\tDIIS                true\n",
      "\tDIIS Vectors        3\n",
      "\tDIIS Precision      Float32\n",
      "\tDamping percentage  0.0\n",
      "\t\tcc_max_iter →   50\n",
      "\t\tcc_e_conv   →  1.e-10\n",
      "\t\tcc_max_rms  →  1.e-10\n",
      "--------------------------------------------------------------------------------\n",
      "\tGuess Correlation Energy:     -0.0382960743\n",
      "\tGuess Total Energy:          -75.0032989690\n",
      "\n",
      "    Starting CC Iterations\n",
      "\n",
      "Iteration     CC Energy          ΔE              Max RMS         time (s)      diis\n",
      "    1        -0.0485255801      -0.0102295058    0.0035726686    0.00317       false\n",
      "    2        -0.0517610791      -0.0032354990    0.0013100312    0.00234       false\n",
      "    3        -0.0537124966      -0.0019514175    0.0006701588    0.00150       true\n",
      "    4        -0.0536909579      +0.0000215387    0.0001126471    0.00163       false\n",
      "    5        -0.0536982634      -0.0000073055    0.0000261218    0.00197       false\n",
      "    6        -0.0537063422      -0.0000080788    0.0000104659    0.00131       true\n",
      "    7        -0.0537065844      -0.0000002422    0.0000016711    0.00118       false\n",
      "    8        -0.0537066466      -0.0000000622    0.0000003824    0.00156       false\n",
      "    9        -0.0537066971      -0.0000000505    0.0000001354    0.00130       true\n",
      "    10       -0.0537066970      +0.0000000001    0.0000000269    0.00139       false\n",
      "    11       -0.0537066973      -0.0000000003    0.0000000075    0.00127       false\n",
      "    12       -0.0537066988      -0.0000000014    0.0000000037    0.00140       true\n",
      "    13       -0.0537066985      +0.0000000002    0.0000000010    0.00127       false\n",
      "    14       -0.0537066985      +0.0000000000    0.0000000001    0.00116       false\n",
      "    15       -0.0537066985      +0.0000000000    0.0000000000    0.00123       true\n",
      "\n",
      "Main CCSD iterations done in 0.02369 s\n",
      "Average time per iteration 0.00158\n",
      "\n",
      " 🍾 Equations Converged!\n",
      " @Final CCSD Correlation Energy:       -0.0537066985\n",
      " @Final CCSD Energy:                  -75.0187095932\n",
      "--------------------------------------------------------------------------------\n",
      "\n",
      "   • Perturbative Triples Started\n",
      "\n",
      "Computing energy contribution from occupied orbitals:\n",
      "  Orbital 1 ✔️\n",
      "  Orbital 2 ✔️\n",
      "  Orbital 4 ✔️\n",
      "  Orbital 3 ✔️\n",
      "  Orbital 5 ✔️\n",
      "Finished in 0.00209 s\n",
      "Final (T) contribution:   -0.0000738086\n",
      "CCSD(T) energy:          -75.0187834019\n"
     ]
    }
   ],
   "source": [
    "@energy ccsd(t);"
   ]
  },
  {
   "cell_type": "markdown",
   "id": "a9b9c4aa",
   "metadata": {},
   "source": [
    "# Extending Fermi"
   ]
  },
  {
   "cell_type": "code",
   "execution_count": 49,
   "id": "3305f64c",
   "metadata": {},
   "outputs": [
    {
     "data": {
      "text/plain": [
       "MyRHF (generic function with 1 method)"
      ]
     },
     "execution_count": 49,
     "metadata": {},
     "output_type": "execute_result"
    }
   ],
   "source": [
    "function MyRHF(aoints)\n",
    "    # Create a fake RHF routine\n",
    "    mol = aoints.molecule\n",
    "    Nbas = aoints.orbitals.basisset.nbas\n",
    "    C = rand(Nbas, Nbas)\n",
    "    e = rand(Nbas)\n",
    "    energy = sum(e)\n",
    "    return energy, e, C\n",
    "end"
   ]
  },
  {
   "cell_type": "code",
   "execution_count": 53,
   "id": "905950de",
   "metadata": {},
   "outputs": [
    {
     "data": {
      "text/plain": [
       "(3.999242591361041, [0.9685980152232458, 0.996926427920657, 0.660987328714539, 0.16989536040089714, 0.3448495725312487, 0.3665170448182228, 0.49146884175223093], [0.9810474718579782 0.11492105743552516 … 0.1311262078000136 0.8012454146193895; 0.01278302919275398 0.3520913457453343 … 0.020917470803811233 0.2724549684700175; … ; 0.7360967202784614 0.7040718457142591 … 0.9369249803849344 0.46108020753942147; 0.3468759850684081 0.3141779536392414 … 0.6834958849483982 0.639006262655684])"
      ]
     },
     "execution_count": 53,
     "metadata": {},
     "output_type": "execute_result"
    }
   ],
   "source": [
    "using Fermi.Integrals: IntegralHelper\n",
    "MyRHF(IntegralHelper())"
   ]
  },
  {
   "cell_type": "code",
   "execution_count": 54,
   "id": "ed622906",
   "metadata": {},
   "outputs": [],
   "source": [
    "import Fermi.HartreeFock: RHF, get_rhf_alg, RHFAlgorithm"
   ]
  },
  {
   "cell_type": "code",
   "execution_count": 57,
   "id": "da3c2605",
   "metadata": {},
   "outputs": [
    {
     "data": {
      "text/plain": [
       "newRHF()"
      ]
     },
     "execution_count": 57,
     "metadata": {},
     "output_type": "execute_result"
    }
   ],
   "source": [
    "struct newRHF <: RHFAlgorithm end\n",
    "\n",
    "get_rhf_alg(x::Val{3}) = newRHF()\n",
    "get_rhf_alg(3)"
   ]
  },
  {
   "cell_type": "code",
   "execution_count": 58,
   "id": "d0a09774",
   "metadata": {},
   "outputs": [
    {
     "data": {
      "text/plain": [
       "RHF"
      ]
     },
     "execution_count": 58,
     "metadata": {},
     "output_type": "execute_result"
    }
   ],
   "source": [
    "function RHF(alg::newRHF)\n",
    "    aoints = Fermi.Integrals.IntegralHelper()\n",
    "    RHF(aoints, alg)\n",
    "end\n",
    "\n",
    "function RHF(aoints::IntegralHelper{Float64}, alg::newRHF)\n",
    "    # 1st argument: molecule object\n",
    "    molecule = aoints.molecule\n",
    "    # 2nd argument: energy\n",
    "    energy, eps, C = MyRHF(aoints)\n",
    "    \n",
    "    println(\"My fake RHF Energy: $energy\")\n",
    "    \n",
    "    # 3rd argument: Number of doubly occ orbitals\n",
    "    ndocc = molecule.Nα\n",
    "    # 4th argument: Number of virtual orbitals\n",
    "    nvir = size(C,1) - ndocc\n",
    "    # 5th argument: RHFOrbitals object\n",
    "    orbitals = Fermi.Orbitals.RHFOrbitals(molecule, aoints.basis, eps, energy, C)\n",
    "    # 6th and 7th, convergency parameters. We will skip those for now.\n",
    "    \n",
    "    return Fermi.HartreeFock.RHF(molecule, energy, ndocc, nvir, orbitals, 0.0, 0.0)\n",
    "end"
   ]
  },
  {
   "cell_type": "code",
   "execution_count": 59,
   "id": "a820cb31",
   "metadata": {},
   "outputs": [
    {
     "name": "stdout",
     "output_type": "stream",
     "text": [
      "My fake RHF Energy: 3.0744530416155067\n"
     ]
    },
    {
     "data": {
      "text/plain": [
       " ⇒ Fermi Restricted Hartree--Fock Wave function\n",
       " ⋅ Basis:                  sto-3g\n",
       " ⋅ Energy:                 3.0744530416155067\n",
       " ⋅ Occ. Spatial Orbitals:  5\n",
       " ⋅ Vir. Spatial Orbitals:  2\n",
       "Convergence: ΔE => 0.00e+00 Dᵣₘₛ => 0.00e+00"
      ]
     },
     "execution_count": 59,
     "metadata": {},
     "output_type": "execute_result"
    }
   ],
   "source": [
    "@set rhf_alg 3\n",
    "@energy rhf"
   ]
  },
  {
   "cell_type": "code",
   "execution_count": 60,
   "id": "111f9e1c",
   "metadata": {},
   "outputs": [
    {
     "name": "stdout",
     "output_type": "stream",
     "text": [
      "My fake RHF Energy: 4.193515997221284\n",
      "================================================================================\n",
      "|                      Møller-Plesset Perturbation Theory                      |\n",
      "|                                  Module  by                                  |\n",
      "|                         G.J.R Aroeira and M.M. Davis                         |\n",
      "================================================================================\n",
      "  Starting MP2 computation\n",
      " Number of frozen orbitals:             0\n",
      " Number of inactive orbitals:           0\n",
      " Number of correlated electron pairs:   5\n",
      " Number of correlated virtual orbitals: 2\n",
      " ⇒ Total number of MP2 amplitudes:      100\n",
      "--------------------------------------------------------------------------------\n",
      " Computing MP2 Energy... Done in 0.00004 s\n",
      "\n",
      "   @Final RMP2 Correlation Energy   10773.621359124705 Eₕ\n",
      "   Reference Energy                     4.193515997221 Eₕ\n",
      "   @Final RMP2 Total Energy         10777.814875121929 Eₕ\n",
      "--------------------------------------------------------------------------------\n"
     ]
    },
    {
     "data": {
      "text/plain": [
       " ⇒ Fermi Restricted MP2 Wave function\n",
       " ⋅ Correlation Energy:     10773.621359124707\n",
       " ⋅ Total Energy:           10777.814875121929"
      ]
     },
     "execution_count": 60,
     "metadata": {},
     "output_type": "execute_result"
    }
   ],
   "source": [
    "@energy mp2"
   ]
  },
  {
   "cell_type": "code",
   "execution_count": 61,
   "id": "bc54cd7c",
   "metadata": {},
   "outputs": [
    {
     "name": "stdout",
     "output_type": "stream",
     "text": [
      "My fake RHF Energy: 3.9745444489038184\n",
      "================================================================================\n",
      "|                      Møller-Plesset Perturbation Theory                      |\n",
      "|                                  Module  by                                  |\n",
      "|                         G.J.R Aroeira and M.M. Davis                         |\n",
      "================================================================================\n",
      "  Starting MP2 computation\n",
      " Number of frozen orbitals:             0\n",
      " Number of inactive orbitals:           0\n",
      " Number of correlated electron pairs:   5\n",
      " Number of correlated virtual orbitals: 2\n",
      " ⇒ Total number of MP2 amplitudes:      100\n",
      "--------------------------------------------------------------------------------\n",
      " Computing MP2 Energy... Done in 0.00001 s\n",
      "\n",
      "   @Final RMP2 Correlation Energy    -140.487456297314 Eₕ\n",
      "   Reference Energy                     3.974544448904 Eₕ\n",
      "   @Final RMP2 Total Energy          -136.512911848410 Eₕ\n",
      "--------------------------------------------------------------------------------\n"
     ]
    },
    {
     "data": {
      "text/plain": [
       " ⇒ Fermi Restricted MP2 Wave function\n",
       " ⋅ Correlation Energy:     -140.4874562973136\n",
       " ⋅ Total Energy:           -136.51291184840977"
      ]
     },
     "execution_count": 61,
     "metadata": {},
     "output_type": "execute_result"
    }
   ],
   "source": [
    "wfn = @energy rhf\n",
    "@energy wfn => mp2"
   ]
  },
  {
   "cell_type": "markdown",
   "id": "30864c5f",
   "metadata": {},
   "source": [
    "# Automatic Differentiation\n",
    "\n",
    "RHF Gradients for Water - minimal basis set (STO-3G)\n",
    "\n",
    "- Finite Differences (Relative runtime: 5.88)\n",
    "\n",
    "|   |             |             |             |\n",
    "|---|-------------|-------------|-------------|\n",
    "|   | x           | y           | z           |  \n",
    "| O | -3.13611e-5 | -2.45416e-6 | -3.45726e-7 |  \n",
    "| H | 2.84842e-5  | -5.90868e-7 | -5.58175e-7 |   \n",
    "| H | 1.92664e-6  | 4.13524e-6  | 2.12552e-6  |  \n",
    "\n",
    "\n",
    "- ForwardDiff (Relative Runtime: 3.40)\n",
    "\n",
    "|   |              |              |              |\n",
    "|---|--------------|--------------|--------------|\n",
    "|   | x            | y            | z            |   \n",
    "| O | -4.51583e-14 | -3.63477e-14 | -4.02907e-14 | \n",
    "| H | 1.15417e-13  | -3.01495e-15 | -2.10717e-14 |   \n",
    "| H | -7.72264e-14 | 9.5841e-14   | 6.49565e-14  | "
   ]
  }
 ],
 "metadata": {
  "kernelspec": {
   "display_name": "Julia 1.7.2",
   "language": "julia",
   "name": "julia-1.7"
  },
  "language_info": {
   "file_extension": ".jl",
   "mimetype": "application/julia",
   "name": "julia",
   "version": "1.7.2"
  }
 },
 "nbformat": 4,
 "nbformat_minor": 5
}
